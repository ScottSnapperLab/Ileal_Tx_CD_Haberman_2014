{
 "cells": [
  {
   "cell_type": "code",
   "execution_count": 1,
   "metadata": {
    "ExecuteTime": {
     "end_time": "2016-08-06T16:06:40.744280",
     "start_time": "2016-08-06T16:06:36.975352"
    },
    "collapsed": true
   },
   "outputs": [],
   "source": [
    "import pandas as pd"
   ]
  },
  {
   "cell_type": "code",
   "execution_count": 2,
   "metadata": {
    "ExecuteTime": {
     "end_time": "2016-08-06T16:10:49.644979",
     "start_time": "2016-08-06T16:10:49.640306"
    },
    "collapsed": true
   },
   "outputs": [],
   "source": [
    "data_ = \"../references/E-GEOD-57945.sdrf.csv\""
   ]
  },
  {
   "cell_type": "code",
   "execution_count": 9,
   "metadata": {
    "ExecuteTime": {
     "end_time": "2016-08-06T16:11:40.722934",
     "start_time": "2016-08-06T16:11:40.700056"
    },
    "collapsed": true
   },
   "outputs": [],
   "source": [
    "data = pd.read_csv(data_, sep='\\t')"
   ]
  },
  {
   "cell_type": "code",
   "execution_count": 10,
   "metadata": {
    "ExecuteTime": {
     "end_time": "2016-08-06T16:11:41.229956",
     "start_time": "2016-08-06T16:11:41.167341"
    },
    "collapsed": false
   },
   "outputs": [
    {
     "data": {
      "text/html": [
       "<div>\n",
       "<table border=\"1\" class=\"dataframe\">\n",
       "  <thead>\n",
       "    <tr style=\"text-align: right;\">\n",
       "      <th></th>\n",
       "      <th>Source Name</th>\n",
       "      <th>Comment [ENA_SAMPLE]</th>\n",
       "      <th>Comment [Sample_description]</th>\n",
       "      <th>Comment [Sample_source_name]</th>\n",
       "      <th>Comment [Sample_title]</th>\n",
       "      <th>Characteristics [age at diagnosis]</th>\n",
       "      <th>Characteristics [deep ulcer]</th>\n",
       "      <th>Characteristics [diagnosis]</th>\n",
       "      <th>Term Source REF</th>\n",
       "      <th>Term Accession Number</th>\n",
       "      <th>...</th>\n",
       "      <th>FactorValue [DIAGNOSIS]</th>\n",
       "      <th>Term Source REF.7</th>\n",
       "      <th>Term Accession Number.4</th>\n",
       "      <th>FactorValue [HISTOPATHOLOGY]</th>\n",
       "      <th>Term Source REF.8</th>\n",
       "      <th>Term Accession Number.5</th>\n",
       "      <th>FactorValue [PARIS AGE AT DIAGNOSIS]</th>\n",
       "      <th>FactorValue [SEX]</th>\n",
       "      <th>Term Source REF.9</th>\n",
       "      <th>Term Accession Number.6</th>\n",
       "    </tr>\n",
       "  </thead>\n",
       "  <tbody>\n",
       "    <tr>\n",
       "      <th>0</th>\n",
       "      <td>GSM1398234 1</td>\n",
       "      <td>SRS620034</td>\n",
       "      <td>Ileal biopsy in treatment na�ve patient with U...</td>\n",
       "      <td>UC Male</td>\n",
       "      <td>CCFA_Risk_359</td>\n",
       "      <td>15.750000</td>\n",
       "      <td>NaN</td>\n",
       "      <td>UC</td>\n",
       "      <td></td>\n",
       "      <td></td>\n",
       "      <td>...</td>\n",
       "      <td>UC</td>\n",
       "      <td></td>\n",
       "      <td></td>\n",
       "      <td>NaN</td>\n",
       "      <td></td>\n",
       "      <td></td>\n",
       "      <td>A1b</td>\n",
       "      <td>male</td>\n",
       "      <td>EFO</td>\n",
       "      <td>EFO_0001266</td>\n",
       "    </tr>\n",
       "    <tr>\n",
       "      <th>1</th>\n",
       "      <td>GSM1398233 1</td>\n",
       "      <td>SRS620033</td>\n",
       "      <td>Ileal biopsy in treatment na�ve patient with U...</td>\n",
       "      <td>UC Female</td>\n",
       "      <td>CCFA_Risk_358</td>\n",
       "      <td>16.583333</td>\n",
       "      <td>NaN</td>\n",
       "      <td>UC</td>\n",
       "      <td></td>\n",
       "      <td></td>\n",
       "      <td>...</td>\n",
       "      <td>UC</td>\n",
       "      <td></td>\n",
       "      <td></td>\n",
       "      <td>NaN</td>\n",
       "      <td></td>\n",
       "      <td></td>\n",
       "      <td>A1b</td>\n",
       "      <td>female</td>\n",
       "      <td>EFO</td>\n",
       "      <td>EFO_0001265</td>\n",
       "    </tr>\n",
       "    <tr>\n",
       "      <th>2</th>\n",
       "      <td>GSM1398232 1</td>\n",
       "      <td>SRS620032</td>\n",
       "      <td>Ileal biopsy in treatment na�ve patient with U...</td>\n",
       "      <td>UC Male</td>\n",
       "      <td>CCFA_Risk_357</td>\n",
       "      <td>7.416667</td>\n",
       "      <td>NaN</td>\n",
       "      <td>UC</td>\n",
       "      <td></td>\n",
       "      <td></td>\n",
       "      <td>...</td>\n",
       "      <td>UC</td>\n",
       "      <td></td>\n",
       "      <td></td>\n",
       "      <td>NaN</td>\n",
       "      <td></td>\n",
       "      <td></td>\n",
       "      <td>A1a</td>\n",
       "      <td>male</td>\n",
       "      <td>EFO</td>\n",
       "      <td>EFO_0001266</td>\n",
       "    </tr>\n",
       "    <tr>\n",
       "      <th>3</th>\n",
       "      <td>GSM1398231 1</td>\n",
       "      <td>SRS620031</td>\n",
       "      <td>Ileal biopsy in treatment na�ve patient with U...</td>\n",
       "      <td>UC Male</td>\n",
       "      <td>CCFA_Risk_356</td>\n",
       "      <td>15.333333</td>\n",
       "      <td>NaN</td>\n",
       "      <td>UC</td>\n",
       "      <td></td>\n",
       "      <td></td>\n",
       "      <td>...</td>\n",
       "      <td>UC</td>\n",
       "      <td></td>\n",
       "      <td></td>\n",
       "      <td>NaN</td>\n",
       "      <td></td>\n",
       "      <td></td>\n",
       "      <td>A1b</td>\n",
       "      <td>male</td>\n",
       "      <td>EFO</td>\n",
       "      <td>EFO_0001266</td>\n",
       "    </tr>\n",
       "    <tr>\n",
       "      <th>4</th>\n",
       "      <td>GSM1398230 1</td>\n",
       "      <td>SRS620030</td>\n",
       "      <td>Ileal biopsy in treatment na�ve patient with U...</td>\n",
       "      <td>UC Male</td>\n",
       "      <td>CCFA_Risk_355</td>\n",
       "      <td>17.083333</td>\n",
       "      <td>NaN</td>\n",
       "      <td>UC</td>\n",
       "      <td></td>\n",
       "      <td></td>\n",
       "      <td>...</td>\n",
       "      <td>UC</td>\n",
       "      <td></td>\n",
       "      <td></td>\n",
       "      <td>NaN</td>\n",
       "      <td></td>\n",
       "      <td></td>\n",
       "      <td>A1b</td>\n",
       "      <td>male</td>\n",
       "      <td>EFO</td>\n",
       "      <td>EFO_0001266</td>\n",
       "    </tr>\n",
       "  </tbody>\n",
       "</table>\n",
       "<p>5 rows × 54 columns</p>\n",
       "</div>"
      ],
      "text/plain": [
       "    Source Name Comment [ENA_SAMPLE]  \\\n",
       "0  GSM1398234 1            SRS620034   \n",
       "1  GSM1398233 1            SRS620033   \n",
       "2  GSM1398232 1            SRS620032   \n",
       "3  GSM1398231 1            SRS620031   \n",
       "4  GSM1398230 1            SRS620030   \n",
       "\n",
       "                        Comment [Sample_description]  \\\n",
       "0  Ileal biopsy in treatment na�ve patient with U...   \n",
       "1  Ileal biopsy in treatment na�ve patient with U...   \n",
       "2  Ileal biopsy in treatment na�ve patient with U...   \n",
       "3  Ileal biopsy in treatment na�ve patient with U...   \n",
       "4  Ileal biopsy in treatment na�ve patient with U...   \n",
       "\n",
       "  Comment [Sample_source_name] Comment [Sample_title]  \\\n",
       "0                      UC Male          CCFA_Risk_359   \n",
       "1                    UC Female          CCFA_Risk_358   \n",
       "2                      UC Male          CCFA_Risk_357   \n",
       "3                      UC Male          CCFA_Risk_356   \n",
       "4                      UC Male          CCFA_Risk_355   \n",
       "\n",
       "   Characteristics [age at diagnosis] Characteristics [deep ulcer]  \\\n",
       "0                           15.750000                          NaN   \n",
       "1                           16.583333                          NaN   \n",
       "2                            7.416667                          NaN   \n",
       "3                           15.333333                          NaN   \n",
       "4                           17.083333                          NaN   \n",
       "\n",
       "  Characteristics [diagnosis] Term Source REF Term Accession Number  \\\n",
       "0                          UC                                         \n",
       "1                          UC                                         \n",
       "2                          UC                                         \n",
       "3                          UC                                         \n",
       "4                          UC                                         \n",
       "\n",
       "            ...           FactorValue [DIAGNOSIS] Term Source REF.7  \\\n",
       "0           ...                                UC                     \n",
       "1           ...                                UC                     \n",
       "2           ...                                UC                     \n",
       "3           ...                                UC                     \n",
       "4           ...                                UC                     \n",
       "\n",
       "  Term Accession Number.4 FactorValue [HISTOPATHOLOGY] Term Source REF.8  \\\n",
       "0                                                  NaN                     \n",
       "1                                                  NaN                     \n",
       "2                                                  NaN                     \n",
       "3                                                  NaN                     \n",
       "4                                                  NaN                     \n",
       "\n",
       "  Term Accession Number.5 FactorValue [PARIS AGE AT DIAGNOSIS]  \\\n",
       "0                                                          A1b   \n",
       "1                                                          A1b   \n",
       "2                                                          A1a   \n",
       "3                                                          A1b   \n",
       "4                                                          A1b   \n",
       "\n",
       "  FactorValue [SEX] Term Source REF.9 Term Accession Number.6  \n",
       "0              male               EFO             EFO_0001266  \n",
       "1            female               EFO             EFO_0001265  \n",
       "2              male               EFO             EFO_0001266  \n",
       "3              male               EFO             EFO_0001266  \n",
       "4              male               EFO             EFO_0001266  \n",
       "\n",
       "[5 rows x 54 columns]"
      ]
     },
     "execution_count": 10,
     "metadata": {},
     "output_type": "execute_result"
    }
   ],
   "source": [
    "data.head()"
   ]
  },
  {
   "cell_type": "code",
   "execution_count": 15,
   "metadata": {
    "ExecuteTime": {
     "end_time": "2016-08-06T16:13:54.730977",
     "start_time": "2016-08-06T16:13:54.725523"
    },
    "collapsed": true
   },
   "outputs": [],
   "source": [
    "sample = data.sample(n=40, axis=0, random_state=42)"
   ]
  },
  {
   "cell_type": "code",
   "execution_count": 16,
   "metadata": {
    "ExecuteTime": {
     "end_time": "2016-08-06T16:13:55.584988",
     "start_time": "2016-08-06T16:13:55.577348"
    },
    "collapsed": false
   },
   "outputs": [
    {
     "data": {
      "text/plain": [
       "(40, 54)"
      ]
     },
     "execution_count": 16,
     "metadata": {},
     "output_type": "execute_result"
    }
   ],
   "source": [
    "sample.shape"
   ]
  },
  {
   "cell_type": "code",
   "execution_count": 18,
   "metadata": {
    "ExecuteTime": {
     "end_time": "2016-08-06T16:15:03.743243",
     "start_time": "2016-08-06T16:15:03.737367"
    },
    "collapsed": false
   },
   "outputs": [
    {
     "data": {
      "text/plain": [
       "Index(['Source Name', 'Comment [ENA_SAMPLE]', 'Comment [Sample_description]',\n",
       "       'Comment [Sample_source_name]', 'Comment [Sample_title]',\n",
       "       'Characteristics [age at diagnosis]', 'Characteristics [deep ulcer]',\n",
       "       'Characteristics [diagnosis]', 'Term Source REF',\n",
       "       'Term Accession Number', 'Characteristics [histopathology]',\n",
       "       'Term Source REF.1', 'Term Accession Number.1',\n",
       "       'Characteristics [organism]', 'Term Source REF.2',\n",
       "       'Term Accession Number.2', 'Characteristics [paris age at diagnosis]',\n",
       "       'Characteristics [sex]', 'Term Source REF.3', 'Term Accession Number.3',\n",
       "       'Protocol REF', 'Term Source REF.4', 'Protocol REF.1',\n",
       "       'Term Source REF.5', 'Extract Name', 'Comment [INSTRUMENT_MODEL]',\n",
       "       'Comment [LIBRARY_LAYOUT]', 'Comment [LIBRARY_SELECTION]',\n",
       "       'Comment [LIBRARY_SOURCE]', 'Comment [LIBRARY_STRATEGY]',\n",
       "       'Material Type', 'Assay Name', 'Comment [ENA_EXPERIMENT]',\n",
       "       'Comment [Platform_title]', 'Technology Type', 'Protocol REF.2',\n",
       "       'Term Source REF.6', 'Scan Name', 'Comment [ENA_RUN]',\n",
       "       'Comment [FASTQ_URI]', 'Derived Array Data File',\n",
       "       'Comment [Derived ArrayExpress FTP file]',\n",
       "       'FactorValue [AGE AT DIAGNOSIS]', 'FactorValue [DEEP ULCER]',\n",
       "       'FactorValue [DIAGNOSIS]', 'Term Source REF.7',\n",
       "       'Term Accession Number.4', 'FactorValue [HISTOPATHOLOGY]',\n",
       "       'Term Source REF.8', 'Term Accession Number.5',\n",
       "       'FactorValue [PARIS AGE AT DIAGNOSIS]', 'FactorValue [SEX]',\n",
       "       'Term Source REF.9', 'Term Accession Number.6'],\n",
       "      dtype='object')"
      ]
     },
     "execution_count": 18,
     "metadata": {},
     "output_type": "execute_result"
    }
   ],
   "source": [
    "sample.columns"
   ]
  },
  {
   "cell_type": "code",
   "execution_count": 19,
   "metadata": {
    "ExecuteTime": {
     "end_time": "2016-08-06T16:15:23.645318",
     "start_time": "2016-08-06T16:15:23.631247"
    },
    "collapsed": false
   },
   "outputs": [
    {
     "data": {
      "text/plain": [
       "Source Name                                                                      GSM1398010 1\n",
       "Comment [ENA_SAMPLE]                                                                SRS619809\n",
       "Comment [Sample_description]                Ileal biopsy in treatment na�ve patient with C...\n",
       "Comment [Sample_source_name]                             iCD with No deep ulcer in A1b Female\n",
       "Comment [Sample_title]                                                          CCFA_Risk_135\n",
       "Characteristics [age at diagnosis]                                                    12.5833\n",
       "Characteristics [deep ulcer]                                                               No\n",
       "Characteristics [diagnosis]                                                                cd\n",
       "Term Source REF                                                                           EFO\n",
       "Term Accession Number                               http://purl.obolibrary.org/obo/UO_0000014\n",
       "Characteristics [histopathology]                                     Macroscopic inflammation\n",
       "Term Source REF.1                                                                            \n",
       "Term Accession Number.1                                                                      \n",
       "Characteristics [organism]                                                       Homo sapiens\n",
       "Term Source REF.2                                                                         EFO\n",
       "Term Accession Number.2                         http://purl.obolibrary.org/obo/NCBITaxon_9606\n",
       "Characteristics [paris age at diagnosis]                                                  A1b\n",
       "Characteristics [sex]                                                                    male\n",
       "Term Source REF.3                                                                         EFO\n",
       "Term Accession Number.3                                                           EFO_0001266\n",
       "Protocol REF                                                                     P-GSE57945-1\n",
       "Term Source REF.4                                                                ArrayExpress\n",
       "Protocol REF.1                                                                   P-GSE57945-2\n",
       "Term Source REF.5                                                                ArrayExpress\n",
       "Extract Name                                                             GSM1398010 extract 1\n",
       "Comment [INSTRUMENT_MODEL]                                                Illumina HiSeq 2000\n",
       "Comment [LIBRARY_LAYOUT]                                                               SINGLE\n",
       "Comment [LIBRARY_SELECTION]                                                              cDNA\n",
       "Comment [LIBRARY_SOURCE]                                                       transcriptomic\n",
       "Comment [LIBRARY_STRATEGY]                                                            RNA-Seq\n",
       "Material Type                                                                       total RNA\n",
       "Assay Name                                                                         GSM1398010\n",
       "Comment [ENA_EXPERIMENT]                                                            SRX552423\n",
       "Comment [Platform_title]                                   Illumina HiSeq 2000 (Homo sapiens)\n",
       "Technology Type                                                              sequencing assay\n",
       "Protocol REF.2                                                                   P-GSE57945-3\n",
       "Term Source REF.6                                                                ArrayExpress\n",
       "Scan Name                                                                          SRR1298150\n",
       "Comment [ENA_RUN]                                                                  SRR1298150\n",
       "Comment [FASTQ_URI]                         ftp://ftp.sra.ebi.ac.uk/vol1/fastq/SRR129/000/...\n",
       "Derived Array Data File                                          GSM1398010_CCFA_Risk_135.txt\n",
       "Comment [Derived ArrayExpress FTP file]     ftp://ftp.ebi.ac.uk/pub/databases/microarray/d...\n",
       "FactorValue [AGE AT DIAGNOSIS]                                                        12.5833\n",
       "FactorValue [DEEP ULCER]                                                                   No\n",
       "FactorValue [DIAGNOSIS]                                                                    cd\n",
       "Term Source REF.7                                                                         EFO\n",
       "Term Accession Number.4                             http://purl.obolibrary.org/obo/UO_0000014\n",
       "FactorValue [HISTOPATHOLOGY]                                         Macroscopic inflammation\n",
       "Term Source REF.8                                                                            \n",
       "Term Accession Number.5                                                                      \n",
       "FactorValue [PARIS AGE AT DIAGNOSIS]                                                      A1b\n",
       "FactorValue [SEX]                                                                        male\n",
       "Term Source REF.9                                                                         EFO\n",
       "Term Accession Number.6                                                           EFO_0001266\n",
       "Name: 224, dtype: object"
      ]
     },
     "execution_count": 19,
     "metadata": {},
     "output_type": "execute_result"
    }
   ],
   "source": [
    "sample.iloc[0,:]"
   ]
  },
  {
   "cell_type": "markdown",
   "metadata": {},
   "source": [
    "# Write out the urls to download"
   ]
  },
  {
   "cell_type": "code",
   "execution_count": 21,
   "metadata": {
    "ExecuteTime": {
     "end_time": "2016-08-06T16:18:11.596424",
     "start_time": "2016-08-06T16:18:11.591975"
    },
    "collapsed": false
   },
   "outputs": [],
   "source": [
    "fastqs = sample['Comment [FASTQ_URI]']"
   ]
  },
  {
   "cell_type": "code",
   "execution_count": 22,
   "metadata": {
    "ExecuteTime": {
     "end_time": "2016-08-06T16:19:55.926405",
     "start_time": "2016-08-06T16:19:55.921677"
    },
    "collapsed": true
   },
   "outputs": [],
   "source": [
    "fastqs.to_csv('../references/sampled_subjects_fastq_urls.csv')"
   ]
  },
  {
   "cell_type": "code",
   "execution_count": null,
   "metadata": {
    "collapsed": true
   },
   "outputs": [],
   "source": []
  }
 ],
 "metadata": {
  "kernelspec": {
   "display_name": "haberman",
   "language": "python",
   "name": "haberman"
  },
  "language_info": {
   "codemirror_mode": {
    "name": "ipython",
    "version": 3
   },
   "file_extension": ".py",
   "mimetype": "text/x-python",
   "name": "python",
   "nbconvert_exporter": "python",
   "pygments_lexer": "ipython3",
   "version": "3.5.2"
  }
 },
 "nbformat": 4,
 "nbformat_minor": 0
}
